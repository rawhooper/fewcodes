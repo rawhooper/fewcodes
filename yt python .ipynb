{
 "cells": [
  {
   "cell_type": "code",
   "execution_count": 9,
   "id": "4c2ff6a8",
   "metadata": {},
   "outputs": [
    {
     "name": "stdout",
     "output_type": "stream",
     "text": [
      "6\n",
      "8\n",
      "sum of the giveninput is 68\n"
     ]
    }
   ],
   "source": [
    "\n",
    "a=input ()\n",
    "b=input()\n",
    "c=a+b\n",
    "print(\"sum of the giveninput is\",c)"
   ]
  },
  {
   "cell_type": "code",
   "execution_count": 3,
   "id": "de6eda09",
   "metadata": {},
   "outputs": [
    {
     "name": "stdout",
     "output_type": "stream",
     "text": [
      "enter the name \n",
      " Aman\n",
      "good afternoon \n",
      "Aman\n"
     ]
    }
   ],
   "source": [
    "name=input('enter the name \\n ')\n",
    "print(\"good afternoon \\n\"  +name)"
   ]
  },
  {
   "cell_type": "code",
   "execution_count": 6,
   "id": "016d283b",
   "metadata": {},
   "outputs": [
    {
     "name": "stdout",
     "output_type": "stream",
     "text": [
      "enter name Aman\n",
      "enter date 05 nov\n",
      "Dear Aman,\n",
      "You are selected .\n",
      "date 05 nov\n"
     ]
    }
   ],
   "source": [
    "l=\"\"\"Dear <|Name|>,\n",
    "You are selected .\n",
    "date <|Date|>\"\"\"\n",
    "name=input (\"enter name \")\n",
    "date=input(\"enter date \")\n",
    "l=l.replace (\"<|Name|>\",name)\n",
    "l=l.replace (\"<|Date|>\",date)\n",
    "print(l)"
   ]
  },
  {
   "cell_type": "code",
   "execution_count": 7,
   "id": "9ba27a5f",
   "metadata": {},
   "outputs": [
    {
     "name": "stdout",
     "output_type": "stream",
     "text": [
      "9\n"
     ]
    }
   ],
   "source": [
    "s='this is a  b    nb  ' #to find double space \n",
    "d=s.find(\"  \")\n",
    "print(d)"
   ]
  },
  {
   "cell_type": "code",
   "execution_count": 8,
   "id": "18b57673",
   "metadata": {},
   "outputs": [
    {
     "name": "stdout",
     "output_type": "stream",
     "text": [
      "this is a b  nb \n"
     ]
    }
   ],
   "source": [
    "s='this is a  b    nb  '  #to replace double space \n",
    "d=s.replace(\"  \",\" \")\n",
    "print(d)"
   ]
  },
  {
   "cell_type": "code",
   "execution_count": 12,
   "id": "4499a23e",
   "metadata": {},
   "outputs": [
    {
     "name": "stdout",
     "output_type": "stream",
     "text": [
      "['gtred', 'sam', 'broje', 543]\n"
     ]
    }
   ],
   "source": [
    "f=['fred','reds','gtred','sam','broje',543]\n",
    "print(f[-4:7])"
   ]
  },
  {
   "cell_type": "code",
   "execution_count": 15,
   "id": "9b4a1055",
   "metadata": {},
   "outputs": [
    {
     "name": "stdout",
     "output_type": "stream",
     "text": [
      "[543, 'broje', 'sam', 'gtred', 'reds', 'fred']\n"
     ]
    }
   ],
   "source": [
    "f.reverse() #to reverse the list \n",
    "print(f)"
   ]
  },
  {
   "cell_type": "code",
   "execution_count": 17,
   "id": "5bc5ec89",
   "metadata": {},
   "outputs": [
    {
     "name": "stdout",
     "output_type": "stream",
     "text": [
      "[543, 'broje', 'sam', 'gtred', 'reds', 'fred', 54634.65, 54634.65]\n"
     ]
    }
   ],
   "source": [
    "f.append(54634.65) # to add at te end of the list \n",
    "print(f)"
   ]
  },
  {
   "cell_type": "code",
   "execution_count": 25,
   "id": "87b2f7bb",
   "metadata": {},
   "outputs": [
    {
     "name": "stdout",
     "output_type": "stream",
     "text": [
      "3\n",
      "7\n"
     ]
    }
   ],
   "source": [
    "t=(7,6,3,2,0,0,0,5) #tuple is made with()\n",
    "#u cannot update the value of tuples \n",
    "print(t.count(0))\n",
    "print(t.index(5))"
   ]
  },
  {
   "cell_type": "code",
   "execution_count": 31,
   "id": "a5122f32",
   "metadata": {},
   "outputs": [
    {
     "name": "stdout",
     "output_type": "stream",
     "text": [
      "['gr', 'y', 'u']\n",
      "dict_values(['treg', [6, 4, 3, 2], 546])\n",
      "dict_items([('gr', 'treg'), ('y', [6, 4, 3, 2]), ('u', 546)])\n",
      "{'gr': 'treg', 'y': [6, 4, 3, 2], 'u': 546, 'f': 'frends', 'r': 'hytr'}\n",
      "546\n"
     ]
    }
   ],
   "source": [
    "de={\"gr\":\"treg\",\n",
    "   \"y\":[6,4,3,2],\n",
    "   \"u\":546}\n",
    "print(list(de.keys())) #print keys of the dictonary \n",
    "print(de.values())  #print values of dict\n",
    "print(de.items()) #print key value pair of dict\n",
    "ud={\"f\":\"frends\",\n",
    "   \"r\":\"hytr\"}\n",
    "de.update(ud) #update key and vlues by adding it in dict \n",
    "print(de)\n",
    "print(de.get(\"u\")) #to get the value of keys"
   ]
  },
  {
   "cell_type": "code",
   "execution_count": 10,
   "id": "c4902bdc",
   "metadata": {},
   "outputs": [
    {
     "name": "stdout",
     "output_type": "stream",
     "text": [
      "4\n",
      "8\n",
      "{9, 6}\n"
     ]
    }
   ],
   "source": [
    "a={5,6,8,9,8,8,9,8} #set is a collection of none repetative element\n",
    "print(len(a)) #gives the lenght f the set with just unique item\n",
    "print(a.pop())#give a random no from setand remove it \n",
    "a.remove(5) #remove item from set\n",
    "print(a)"
   ]
  },
  {
   "cell_type": "code",
   "execution_count": 14,
   "id": "4df2778f",
   "metadata": {},
   "outputs": [
    {
     "name": "stdout",
     "output_type": "stream",
     "text": [
      "options are : dict_keys(['goal', 'phankha ', 'char'])\n",
      "kindly select one option \n",
      "red\n",
      "the meaning of your word is : None\n"
     ]
    }
   ],
   "source": [
    " a={\"goal\": \"circle\",\n",
    "   \"phankha \":\"Fan\",\n",
    "   \"char\":\"four\"}\n",
    "print (\"options are :\",a.keys())\n",
    "i=input(\"kindly select one option \\n\")\n",
    "print (\"the meaning of your word is :\",a.get(i))\n"
   ]
  },
  {
   "cell_type": "code",
   "execution_count": 15,
   "id": "19bcbccf",
   "metadata": {},
   "outputs": [
    {
     "name": "stdout",
     "output_type": "stream",
     "text": [
      "enter your favourite language of Subham c\n",
      "enter your favourite language of Ram c++\n",
      "enter your favourite language of Sham hindi\n",
      "{'subham': 'c', 'Ram': 'c++', 'Sham': 'hindi'}\n"
     ]
    }
   ],
   "source": [
    "l={}\n",
    "a=input(\"enter your favourite language of Subham \")\n",
    "c=input(\"enter your favourite language of Ram \")\n",
    "b=input(\"enter your favourite language of Sham \")\n",
    "l['subham']=a\n",
    "l['Ram']=c\n",
    "l['Sham']=b\n",
    "print(l)  #u cannot store list in a set and no values can be changed in set"
   ]
  },
  {
   "cell_type": "code",
   "execution_count": 3,
   "id": "b9045013",
   "metadata": {},
   "outputs": [
    {
     "name": "stdout",
     "output_type": "stream",
     "text": [
      "enter your age :34\n",
      "adult\n"
     ]
    }
   ],
   "source": [
    "a=int(input (\"enter your age :\"))\n",
    "if (a>=18):\n",
    "    print(\"adult\")\n",
    "else :\n",
    "    print (\"not adult \")"
   ]
  },
  {
   "cell_type": "code",
   "execution_count": 18,
   "id": "4056930c",
   "metadata": {},
   "outputs": [
    {
     "name": "stdout",
     "output_type": "stream",
     "text": [
      "enter the comment get girls and chat\n",
      "this is a spam\n"
     ]
    }
   ],
   "source": [
    "tx=input (\"enter the comment \")\n",
    "\n",
    "if(\"make a lot of money\" in tx):\n",
    "    sp=True\n",
    "elif (\"subscrbe this channel\" in tx):\n",
    "    sp=True\n",
    "elif (\"get girls and chat\" in tx):\n",
    "    sp=True \n",
    "elif (\"this is a spam\" in tx):\n",
    "    sp=True\n",
    "else:\n",
    "    sp=False\n",
    "\n",
    "if (sp):\n",
    "    print(\"this is a spam\")\n",
    "else :\n",
    "    print (\"not a spam \")\n"
   ]
  },
  {
   "cell_type": "code",
   "execution_count": 23,
   "id": "de3d5d23",
   "metadata": {},
   "outputs": [
    {
     "name": "stdout",
     "output_type": "stream",
     "text": [
      "enter ur user name :er4435e\n",
      "smaller then 10: \n",
      " with len 7\n"
     ]
    }
   ],
   "source": [
    "a=input(\"enter ur user name :\")\n",
    "if (len(a)>=10):\n",
    "    print(\"greater then 10:\\n with len\" ,len(a))\n",
    "else :\n",
    "    print ('smaller then 10: \\n with len', len(a))\n",
    "    "
   ]
  },
  {
   "cell_type": "code",
   "execution_count": 25,
   "id": "6c9fe509",
   "metadata": {},
   "outputs": [
    {
     "name": "stdout",
     "output_type": "stream",
     "text": [
      "enter the name u want to find frou\n",
      "frou is not present in list \n"
     ]
    }
   ],
   "source": [
    "name=[\"raj\",\"groge\",'aman','deer','ram','shyam']\n",
    "n=input('enter the name u want to find ')\n",
    "\n",
    "if (n in name):\n",
    "    print(n,\"is present in the list \")\n",
    "else :\n",
    "    print (n, 'is not present in list ')"
   ]
  },
  {
   "cell_type": "code",
   "execution_count": 4,
   "id": "7a2b4b62",
   "metadata": {},
   "outputs": [
    {
     "name": "stdout",
     "output_type": "stream",
     "text": [
      "1\n",
      "2\n",
      "3\n",
      "4\n",
      "5\n",
      "done\n"
     ]
    }
   ],
   "source": [
    "i=1\n",
    "while (i<=5):\n",
    "    print (i)\n",
    "    i=i+1\n",
    "print ('done')\n",
    "    "
   ]
  },
  {
   "cell_type": "code",
   "execution_count": 13,
   "id": "3261abc3",
   "metadata": {},
   "outputs": [
    {
     "name": "stdout",
     "output_type": "stream",
     "text": [
      "fres\n",
      "gres\n",
      "htdr\n"
     ]
    }
   ],
   "source": [
    "f=['fres','gres','htdr','jndgd']\n",
    "i=0\n",
    "while i<len(f)-1:\n",
    "    print(f[i])\n",
    "    i=i+1"
   ]
  },
  {
   "cell_type": "code",
   "execution_count": 15,
   "id": "f5a4edaf",
   "metadata": {},
   "outputs": [
    {
     "name": "stdout",
     "output_type": "stream",
     "text": [
      "fres\n",
      "gres\n",
      "htdr\n",
      "jndgd\n"
     ]
    }
   ],
   "source": [
    "f=['fres','gres','htdr','jndgd']\n",
    "\n",
    "for i in f:\n",
    "    print (i)"
   ]
  },
  {
   "cell_type": "code",
   "execution_count": 17,
   "id": "a1f153f5",
   "metadata": {},
   "outputs": [
    {
     "name": "stdout",
     "output_type": "stream",
     "text": [
      "range(0, 9)\n"
     ]
    }
   ],
   "source": [
    "print(range(9))"
   ]
  },
  {
   "cell_type": "code",
   "execution_count": 30,
   "id": "699dbdd0",
   "metadata": {},
   "outputs": [
    {
     "name": "stdout",
     "output_type": "stream",
     "text": [
      "0\n",
      "1\n",
      "2\n",
      "3\n",
      "4\n",
      "6\n",
      "7\n",
      "8\n",
      "9\n"
     ]
    }
   ],
   "source": [
    "for i in range (10):\n",
    "    if i==5:\n",
    "        continue\n",
    "    print (i)\n"
   ]
  },
  {
   "cell_type": "code",
   "execution_count": 33,
   "id": "eed0a0d0",
   "metadata": {},
   "outputs": [
    {
     "name": "stdout",
     "output_type": "stream",
     "text": [
      "enter the no u want to see the table: 7\n",
      "7 x 1 = 7\n",
      "7 x 2 = 14\n",
      "7 x 3 = 21\n",
      "7 x 4 = 28\n",
      "7 x 5 = 35\n",
      "7 x 6 = 42\n",
      "7 x 7 = 49\n",
      "7 x 8 = 56\n",
      "7 x 9 = 63\n",
      "7 x 10 = 70\n"
     ]
    }
   ],
   "source": [
    "i=int(input ('enter the no u want to see the table: '))\n",
    "for j in range(1,11):\n",
    "    print(i,'x',j,'=',i*j)"
   ]
  },
  {
   "cell_type": "code",
   "execution_count": 2,
   "id": "c4abc4c2",
   "metadata": {},
   "outputs": [
    {
     "name": "stdout",
     "output_type": "stream",
     "text": [
      "greating  sera\n",
      "greating  soham\n"
     ]
    }
   ],
   "source": [
    "l=[\"Great\",'merw','sera',\"derw\",\"Shyam\",\"soham\"]\n",
    "for i in l:\n",
    "    if i.startswith(\"s\" ):\n",
    "        print(\"greating \", i)"
   ]
  },
  {
   "cell_type": "code",
   "execution_count": 12,
   "id": "bb3a9afb",
   "metadata": {},
   "outputs": [
    {
     "name": "stdout",
     "output_type": "stream",
     "text": [
      "enter the no you want to check for prime 73\n",
      "the given no  73 is a prime no \n"
     ]
    }
   ],
   "source": [
    "n=int(input('enter the no you want to check for prime ')) #for prime no \n",
    "temp=0\n",
    "for i in range(1,n):\n",
    "    if (n%i)==0 :\n",
    "        temp=temp+1\n",
    "if (temp==1):\n",
    "    print ('the given no ',n, 'is a prime no ')\n",
    "else :\n",
    "     print ('the given no ',n, 'is not a prime no ')\n",
    "\n",
    "\n",
    "        "
   ]
  },
  {
   "cell_type": "code",
   "execution_count": 16,
   "id": "a27a0504",
   "metadata": {},
   "outputs": [
    {
     "name": "stdout",
     "output_type": "stream",
     "text": [
      "enter the no you want to check factorial of  3\n",
      "Factorial of given no  3 is  6\n"
     ]
    }
   ],
   "source": [
    "n=int(input('enter the no you want to check factorial of  ')) #for factorial of any no\n",
    "f=1 \n",
    "for i in range(1,n+1):\n",
    "    f=f*i\n",
    "    \n",
    "    \n",
    "print ('Factorial of given no ',n, 'is ',f)"
   ]
  },
  {
   "cell_type": "code",
   "execution_count": 17,
   "id": "3b276482",
   "metadata": {},
   "outputs": [
    {
     "name": "stdout",
     "output_type": "stream",
     "text": [
      "enter the no u want see pattern of  5\n",
      "*\n",
      "**\n",
      "***\n",
      "****\n",
      "*****\n"
     ]
    }
   ],
   "source": [
    "n=int(input('enter the no u want see pattern of  '))\n",
    "for i in range (n):\n",
    "    print('*'*(i+1))"
   ]
  },
  {
   "cell_type": "code",
   "execution_count": 2,
   "id": "f62c79cd",
   "metadata": {},
   "outputs": [
    {
     "name": "stdout",
     "output_type": "stream",
     "text": [
      "enter the no u want see pattern of  3\n",
      "  *  \n",
      " *** \n",
      "*****\n"
     ]
    }
   ],
   "source": [
    "n=int(input('enter the no u want see pattern of  '))\n",
    "for i in range(n):\n",
    "    print(\" \"*(n-i-1),end=\"\")\n",
    "    print(\"*\"*(2*i+1),end='')\n",
    "    print(' '*(n-i-1))"
   ]
  },
  {
   "cell_type": "code",
   "execution_count": 3,
   "id": "66f7ccf8",
   "metadata": {},
   "outputs": [],
   "source": [
    "def max (n1,n2,n3):\n",
    "    if (n1>n2):\n",
    "        if (n1>n3):\n",
    "            return n1\n",
    "        else :\n",
    "            return n3\n",
    "    else:\n",
    "        if (n2>n3):\n",
    "            return n2\n",
    "        else :\n",
    "            return n3\n",
    "\n",
    "        "
   ]
  },
  {
   "cell_type": "code",
   "execution_count": 8,
   "id": "42f005ab",
   "metadata": {},
   "outputs": [
    {
     "name": "stdout",
     "output_type": "stream",
     "text": [
      "greatest is 56\n"
     ]
    }
   ],
   "source": [
    "m=max(56,8,45)\n",
    "print(\"greatest is \"+str(m))"
   ]
  },
  {
   "cell_type": "code",
   "execution_count": 13,
   "id": "16f62f1c",
   "metadata": {},
   "outputs": [
    {
     "name": "stdout",
     "output_type": "stream",
     "text": [
      "******\n",
      "*****\n",
      "****\n",
      "***\n",
      "**\n",
      "*\n"
     ]
    }
   ],
   "source": [
    "n=6 \n",
    "for i in range (n):\n",
    "    print('*'*(n-i))"
   ]
  },
  {
   "cell_type": "code",
   "execution_count": 15,
   "id": "316ff2b3",
   "metadata": {},
   "outputs": [
    {
     "name": "stdout",
     "output_type": "stream",
     "text": [
      "is good boy\n"
     ]
    }
   ],
   "source": [
    "def remove(st,w):\n",
    "    ne=st.replace(w,\"\") \n",
    "    return ne.strip() \n",
    "t= \"    harry is good boy     \"\n",
    "n=remove(t,'harry')\n",
    "print(n)"
   ]
  },
  {
   "cell_type": "code",
   "execution_count": 23,
   "id": "346a4577",
   "metadata": {},
   "outputs": [
    {
     "name": "stdout",
     "output_type": "stream",
     "text": [
      "computers turn :rock(r), paper (p), sicssors (s)\n",
      "your turn : rock(r), paper (p), sicssors (s)r\n",
      "computer choose p\n",
      "you choose r\n",
      "you lose \n"
     ]
    }
   ],
   "source": [
    "import random  #rock paper scissors game \n",
    "def ga(com,u):\n",
    "    if com==u:\n",
    "        return None\n",
    "    elif com==\"r\":\n",
    "        if u==\"s\":\n",
    "            return False\n",
    "        if u==\"p\":\n",
    "            return True\n",
    "    elif com==\"p\":\n",
    "        if u==\"r\":\n",
    "            return False\n",
    "        if u==\"s\":\n",
    "            return True\n",
    "    elif com==\"s\":\n",
    "        if u==\"p\":\n",
    "            return False\n",
    "        if u==\"r\":\n",
    "            return True\n",
    "\n",
    "print('computers turn :rock(r), paper (p), sicssors (s)')\n",
    "ro=random.randint(1,3)\n",
    "if ro==1:\n",
    "    com=\"r\"\n",
    "elif ro==2:\n",
    "    com=\"p\"\n",
    "elif ro==3:\n",
    "    com=\"s\"\n",
    "u=input('your turn : rock(r), paper (p), sicssors (s)')   \n",
    "a=ga(com,u)\n",
    "print(f\"computer choose {com}\")\n",
    "print(f\"you choose {u}\")\n",
    "\n",
    "if a==None:\n",
    "    print ('game is a tie ')\n",
    "elif a:\n",
    "    print ('you win ')\n",
    "else :\n",
    "    print(\"you lose \")\n",
    "    "
   ]
  },
  {
   "cell_type": "code",
   "execution_count": null,
   "id": "73d00681",
   "metadata": {},
   "outputs": [],
   "source": []
  }
 ],
 "metadata": {
  "kernelspec": {
   "display_name": "Python 3 (ipykernel)",
   "language": "python",
   "name": "python3"
  },
  "language_info": {
   "codemirror_mode": {
    "name": "ipython",
    "version": 3
   },
   "file_extension": ".py",
   "mimetype": "text/x-python",
   "name": "python",
   "nbconvert_exporter": "python",
   "pygments_lexer": "ipython3",
   "version": "3.9.12"
  }
 },
 "nbformat": 4,
 "nbformat_minor": 5
}
